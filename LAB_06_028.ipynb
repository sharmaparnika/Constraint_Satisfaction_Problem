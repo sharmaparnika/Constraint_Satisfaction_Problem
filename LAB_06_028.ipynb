{
  "nbformat": 4,
  "nbformat_minor": 0,
  "metadata": {
    "colab": {
      "name": "LAB_06_028.ipynb",
      "provenance": [],
      "authorship_tag": "ABX9TyPua0TJd7AQlTfPqm0bQccS",
      "include_colab_link": true
    },
    "kernelspec": {
      "name": "python3",
      "display_name": "Python 3"
    },
    "language_info": {
      "name": "python"
    }
  },
  "cells": [
    {
      "cell_type": "markdown",
      "metadata": {
        "id": "view-in-github",
        "colab_type": "text"
      },
      "source": [
        "<a href=\"https://colab.research.google.com/github/sharmaparnika/Constraint_Satisfaction_Problem/blob/main/LAB_06_028.ipynb\" target=\"_parent\"><img src=\"https://colab.research.google.com/assets/colab-badge.svg\" alt=\"Open In Colab\"/></a>"
      ]
    },
    {
      "cell_type": "code",
      "source": [
        "from ortools.sat.python import cp_model\n",
        "model = cp_model.CpModel()"
      ],
      "metadata": {
        "id": "rxwkokEMds62"
      },
      "execution_count": null,
      "outputs": []
    },
    {
      "cell_type": "code",
      "source": [
        "base = 10\n",
        "\n",
        "c = model.NewIntVar(1, 9, 'C')\n",
        "p = model.NewIntVar(0, 9, 'P')\n",
        "i = model.NewIntVar(1, 9, 'I')\n",
        "s = model.NewIntVar(0, 9, 'S')\n",
        "f = model.NewIntVar(1, 9, 'F')\n",
        "u = model.NewIntVar(0, 9, 'U')\n",
        "n = model.NewIntVar(0, 9, 'N')\n",
        "t = model.NewIntVar(1, 9, 'T')\n",
        "r = model.NewIntVar(0, 9, 'R')\n",
        "e = model.NewIntVar(0, 9, 'E')\n",
        "\n",
        "# List of variables\n",
        "letters = [c, p, i, s, f, u, n, t, r, e]"
      ],
      "metadata": {
        "id": "LE7yOYypdoED"
      },
      "execution_count": null,
      "outputs": []
    },
    {
      "cell_type": "code",
      "source": [
        "# Define the constraints\n",
        "model.AddAllDifferent(letters)\n",
        "\n",
        "# CP + IS + FUN = TRUE\n",
        "model.Add(c * 10 + p + i * 10 + s + f * base**2 + u * 10 + n == t * 10**3 + r *10**2 + u * 10 + e)"
      ],
      "metadata": {
        "colab": {
          "base_uri": "https://localhost:8080/"
        },
        "id": "fqxCqExTd2HB",
        "outputId": "ccf38bef-d00a-4178-cb00-b297d7200772"
      },
      "execution_count": null,
      "outputs": [
        {
          "output_type": "execute_result",
          "data": {
            "text/plain": [
              "<ortools.sat.python.cp_model.Constraint at 0x7fbce9a2ac50>"
            ]
          },
          "metadata": {},
          "execution_count": 7
        }
      ]
    },
    {
      "cell_type": "code",
      "source": [
        "# Solution Printer Class\n",
        "class VarArraySolutionPrinter(cp_model.CpSolverSolutionCallback):\n",
        "    \n",
        "    def __init__(self, variables):\n",
        "        cp_model.CpSolverSolutionCallback.__init__(self)\n",
        "        self.__variables = variables\n",
        "        self.__solution_count = 0\n",
        "    \n",
        "    def on_solution_callback(self):\n",
        "        self.__solution_count += 1\n",
        "        for v in self.__variables:\n",
        "            print('%s=%i ' %(v, self.Value(v)), end='')\n",
        "        print()\n",
        "    \n",
        "    def solution_count(self):\n",
        "        return self.__solution_count"
      ],
      "metadata": {
        "id": "ENaZp74Bd5oY"
      },
      "execution_count": null,
      "outputs": []
    },
    {
      "cell_type": "code",
      "source": [
        "# Call the solver\n",
        "solver = cp_model.CpSolver()\n",
        "solution_printer = VarArraySolutionPrinter(letters)\n",
        "status =  solver.SearchForAllSolutions(model, solution_printer)"
      ],
      "metadata": {
        "colab": {
          "base_uri": "https://localhost:8080/"
        },
        "id": "vtO2ZsVKe-KT",
        "outputId": "090846a2-9830-4dcc-eb26-635175540585"
      },
      "execution_count": null,
      "outputs": [
        {
          "output_type": "stream",
          "name": "stdout",
          "text": [
            "C=6 P=4 I=3 S=5 F=9 U=2 N=8 T=1 R=0 E=7 \n",
            "C=3 P=4 I=6 S=5 F=9 U=2 N=8 T=1 R=0 E=7 \n",
            "C=3 P=4 I=6 S=8 F=9 U=2 N=5 T=1 R=0 E=7 \n",
            "C=3 P=2 I=6 S=7 F=9 U=8 N=5 T=1 R=0 E=4 \n",
            "C=3 P=2 I=6 S=5 F=9 U=8 N=7 T=1 R=0 E=4 \n",
            "C=2 P=3 I=7 S=6 F=9 U=8 N=5 T=1 R=0 E=4 \n",
            "C=2 P=3 I=7 S=4 F=9 U=6 N=8 T=1 R=0 E=5 \n",
            "C=2 P=3 I=7 S=5 F=9 U=4 N=8 T=1 R=0 E=6 \n",
            "C=2 P=3 I=7 S=8 F=9 U=4 N=5 T=1 R=0 E=6 \n",
            "C=2 P=3 I=7 S=8 F=9 U=6 N=4 T=1 R=0 E=5 \n",
            "C=2 P=3 I=7 S=5 F=9 U=8 N=6 T=1 R=0 E=4 \n",
            "C=7 P=3 I=2 S=5 F=9 U=8 N=6 T=1 R=0 E=4 \n",
            "C=7 P=3 I=2 S=6 F=9 U=8 N=5 T=1 R=0 E=4 \n",
            "C=6 P=2 I=3 S=7 F=9 U=8 N=5 T=1 R=0 E=4 \n",
            "C=6 P=2 I=3 S=5 F=9 U=8 N=7 T=1 R=0 E=4 \n",
            "C=7 P=3 I=2 S=4 F=9 U=6 N=8 T=1 R=0 E=5 \n",
            "C=7 P=3 I=2 S=8 F=9 U=6 N=4 T=1 R=0 E=5 \n",
            "C=7 P=4 I=2 S=8 F=9 U=6 N=3 T=1 R=0 E=5 \n",
            "C=7 P=8 I=2 S=4 F=9 U=6 N=3 T=1 R=0 E=5 \n",
            "C=7 P=8 I=2 S=3 F=9 U=6 N=4 T=1 R=0 E=5 \n",
            "C=7 P=4 I=2 S=3 F=9 U=6 N=8 T=1 R=0 E=5 \n",
            "C=7 P=6 I=2 S=3 F=9 U=8 N=5 T=1 R=0 E=4 \n",
            "C=7 P=5 I=2 S=3 F=9 U=8 N=6 T=1 R=0 E=4 \n",
            "C=7 P=8 I=2 S=3 F=9 U=4 N=5 T=1 R=0 E=6 \n",
            "C=7 P=8 I=2 S=5 F=9 U=4 N=3 T=1 R=0 E=6 \n",
            "C=7 P=3 I=2 S=5 F=9 U=4 N=8 T=1 R=0 E=6 \n",
            "C=7 P=5 I=2 S=3 F=9 U=4 N=8 T=1 R=0 E=6 \n",
            "C=7 P=3 I=2 S=8 F=9 U=4 N=5 T=1 R=0 E=6 \n",
            "C=7 P=5 I=2 S=8 F=9 U=4 N=3 T=1 R=0 E=6 \n",
            "C=2 P=5 I=7 S=8 F=9 U=4 N=3 T=1 R=0 E=6 \n",
            "C=4 P=6 I=5 S=8 F=9 U=2 N=3 T=1 R=0 E=7 \n",
            "C=5 P=6 I=4 S=8 F=9 U=2 N=3 T=1 R=0 E=7 \n",
            "C=6 P=5 I=3 S=8 F=9 U=2 N=4 T=1 R=0 E=7 \n",
            "C=6 P=5 I=3 S=4 F=9 U=2 N=8 T=1 R=0 E=7 \n",
            "C=6 P=4 I=3 S=8 F=9 U=2 N=5 T=1 R=0 E=7 \n",
            "C=5 P=6 I=4 S=3 F=9 U=2 N=8 T=1 R=0 E=7 \n",
            "C=4 P=6 I=5 S=3 F=9 U=2 N=8 T=1 R=0 E=7 \n",
            "C=4 P=3 I=5 S=6 F=9 U=2 N=8 T=1 R=0 E=7 \n",
            "C=4 P=3 I=5 S=8 F=9 U=2 N=6 T=1 R=0 E=7 \n",
            "C=5 P=3 I=4 S=8 F=9 U=2 N=6 T=1 R=0 E=7 \n",
            "C=5 P=3 I=4 S=6 F=9 U=2 N=8 T=1 R=0 E=7 \n",
            "C=3 P=5 I=6 S=4 F=9 U=2 N=8 T=1 R=0 E=7 \n",
            "C=3 P=5 I=6 S=8 F=9 U=2 N=4 T=1 R=0 E=7 \n",
            "C=3 P=8 I=6 S=5 F=9 U=2 N=4 T=1 R=0 E=7 \n",
            "C=3 P=8 I=6 S=4 F=9 U=2 N=5 T=1 R=0 E=7 \n",
            "C=4 P=8 I=5 S=3 F=9 U=2 N=6 T=1 R=0 E=7 \n",
            "C=5 P=8 I=4 S=3 F=9 U=2 N=6 T=1 R=0 E=7 \n",
            "C=6 P=8 I=3 S=4 F=9 U=2 N=5 T=1 R=0 E=7 \n",
            "C=6 P=8 I=3 S=5 F=9 U=2 N=4 T=1 R=0 E=7 \n",
            "C=5 P=8 I=4 S=6 F=9 U=2 N=3 T=1 R=0 E=7 \n",
            "C=4 P=8 I=5 S=6 F=9 U=2 N=3 T=1 R=0 E=7 \n",
            "C=3 P=7 I=6 S=2 F=9 U=8 N=5 T=1 R=0 E=4 \n",
            "C=3 P=5 I=6 S=2 F=9 U=8 N=7 T=1 R=0 E=4 \n",
            "C=3 P=7 I=6 S=5 F=9 U=8 N=2 T=1 R=0 E=4 \n",
            "C=3 P=5 I=6 S=7 F=9 U=8 N=2 T=1 R=0 E=4 \n",
            "C=2 P=5 I=7 S=6 F=9 U=8 N=3 T=1 R=0 E=4 \n",
            "C=2 P=6 I=7 S=5 F=9 U=8 N=3 T=1 R=0 E=4 \n",
            "C=2 P=6 I=7 S=3 F=9 U=8 N=5 T=1 R=0 E=4 \n",
            "C=2 P=5 I=7 S=3 F=9 U=8 N=6 T=1 R=0 E=4 \n",
            "C=2 P=8 I=7 S=3 F=9 U=4 N=5 T=1 R=0 E=6 \n",
            "C=2 P=5 I=7 S=3 F=9 U=4 N=8 T=1 R=0 E=6 \n",
            "C=2 P=8 I=7 S=3 F=9 U=6 N=4 T=1 R=0 E=5 \n",
            "C=2 P=4 I=7 S=3 F=9 U=6 N=8 T=1 R=0 E=5 \n",
            "C=2 P=4 I=7 S=8 F=9 U=6 N=3 T=1 R=0 E=5 \n",
            "C=2 P=8 I=7 S=4 F=9 U=6 N=3 T=1 R=0 E=5 \n",
            "C=2 P=8 I=7 S=5 F=9 U=4 N=3 T=1 R=0 E=6 \n",
            "C=7 P=6 I=2 S=5 F=9 U=8 N=3 T=1 R=0 E=4 \n",
            "C=7 P=5 I=2 S=6 F=9 U=8 N=3 T=1 R=0 E=4 \n",
            "C=6 P=5 I=3 S=7 F=9 U=8 N=2 T=1 R=0 E=4 \n",
            "C=6 P=7 I=3 S=5 F=9 U=8 N=2 T=1 R=0 E=4 \n",
            "C=6 P=7 I=3 S=2 F=9 U=8 N=5 T=1 R=0 E=4 \n",
            "C=6 P=5 I=3 S=2 F=9 U=8 N=7 T=1 R=0 E=4 \n"
          ]
        }
      ]
    },
    {
      "cell_type": "markdown",
      "source": [
        "---"
      ],
      "metadata": {
        "id": "gdIWD9Jxfggq"
      }
    }
  ]
}